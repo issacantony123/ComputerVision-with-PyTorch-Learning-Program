{
  "nbformat": 4,
  "nbformat_minor": 0,
  "metadata": {
    "colab": {
      "name": "task3.ipynb",
      "provenance": []
    },
    "kernelspec": {
      "name": "python3",
      "display_name": "Python 3"
    }
  },
  "cells": [
    {
      "cell_type": "code",
      "metadata": {
        "id": "cF8e7eTbCp_A",
        "colab_type": "code",
        "colab": {}
      },
      "source": [
        "import torch\n",
        "from torch import nn\n",
        "import torch.nn.functional as F"
      ],
      "execution_count": 0,
      "outputs": []
    },
    {
      "cell_type": "code",
      "metadata": {
        "id": "vRm9TDVhCyUO",
        "colab_type": "code",
        "colab": {}
      },
      "source": [
        "class neural_net(nn.Module):\n",
        "  def __init__(self,input_shape,hid1,hid2,output_shape):\n",
        "    super().__init__()\n",
        "    self.layer1=nn.Linear(input_shape,hid1)\n",
        "    self.layer2=nn.Linear(hid1,hid2)\n",
        "    self.ouput=nn.Linear(hid2,output_shape)\n",
        "  def forward(self,x):\n",
        "    x=torch.sigmoid(self.layer1(x))\n",
        "    x=torch.sigmoid(self.layer2(x))\n",
        "    x=self.ouput(x)\n",
        "    return x"
      ],
      "execution_count": 0,
      "outputs": []
    },
    {
      "cell_type": "code",
      "metadata": {
        "id": "G5FNnlMrFRBc",
        "colab_type": "code",
        "colab": {}
      },
      "source": [
        "moodel=neural_net(1024,256,256,1)"
      ],
      "execution_count": 0,
      "outputs": []
    },
    {
      "cell_type": "code",
      "metadata": {
        "id": "XRssQTOnL7-4",
        "colab_type": "code",
        "outputId": "2c28c93f-8dd7-4d39-a6c0-ae9cde831dbd",
        "colab": {
          "base_uri": "https://localhost:8080/",
          "height": 102
        }
      },
      "source": [
        "moodel"
      ],
      "execution_count": 4,
      "outputs": [
        {
          "output_type": "execute_result",
          "data": {
            "text/plain": [
              "neural_net(\n",
              "  (layer1): Linear(in_features=1024, out_features=256, bias=True)\n",
              "  (layer2): Linear(in_features=256, out_features=256, bias=True)\n",
              "  (ouput): Linear(in_features=256, out_features=1, bias=True)\n",
              ")"
            ]
          },
          "metadata": {
            "tags": []
          },
          "execution_count": 4
        }
      ]
    },
    {
      "cell_type": "code",
      "metadata": {
        "id": "asRGX2GaHD_U",
        "colab_type": "code",
        "outputId": "13cf080a-2131-47d0-9b9c-90ec8c37f4b1",
        "colab": {
          "base_uri": "https://localhost:8080/",
          "height": 34
        }
      },
      "source": [
        "input=torch.randn(1,1024)\n",
        "moodel(input)"
      ],
      "execution_count": 6,
      "outputs": [
        {
          "output_type": "execute_result",
          "data": {
            "text/plain": [
              "tensor([[0.2871]], grad_fn=<AddmmBackward>)"
            ]
          },
          "metadata": {
            "tags": []
          },
          "execution_count": 6
        }
      ]
    }
  ]
}