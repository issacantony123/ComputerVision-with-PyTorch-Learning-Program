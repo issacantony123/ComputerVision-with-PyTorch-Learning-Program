{
 "cells": [
  {
   "cell_type": "code",
   "execution_count": 229,
   "metadata": {},
   "outputs": [],
   "source": [
    "# Task given on day 4\n",
    "\n",
    "import torch\n",
    "from torch import nn"
   ]
  },
  {
   "cell_type": "code",
   "execution_count": 230,
   "metadata": {},
   "outputs": [],
   "source": [
    "model = nn.Sequential(\n",
    "    nn.Linear(784, 8),\n",
    "    nn.Sigmoid(),\n",
    "    nn.Linear(8, 8),\n",
    "    nn.Sigmoid(),\n",
    "    nn.Linear(8, 8),\n",
    "    nn.Sigmoid(),\n",
    "    nn.Linear(8, 10),\n",
    "    nn.Softmax()\n",
    ")"
   ]
  },
  {
   "cell_type": "code",
   "execution_count": 231,
   "metadata": {},
   "outputs": [
    {
     "output_type": "execute_result",
     "data": {
      "text/plain": "Sequential(\n  (0): Linear(in_features=784, out_features=8, bias=True)\n  (1): Sigmoid()\n  (2): Linear(in_features=8, out_features=8, bias=True)\n  (3): Sigmoid()\n  (4): Linear(in_features=8, out_features=8, bias=True)\n  (5): Sigmoid()\n  (6): Linear(in_features=8, out_features=10, bias=True)\n  (7): Softmax(dim=None)\n)"
     },
     "metadata": {},
     "execution_count": 231
    }
   ],
   "source": [
    "model"
   ]
  }
 ],
 "metadata": {
  "language_info": {
   "codemirror_mode": {
    "name": "ipython",
    "version": 3
   },
   "file_extension": ".py",
   "mimetype": "text/x-python",
   "name": "python",
   "nbconvert_exporter": "python",
   "pygments_lexer": "ipython3",
   "version": "3.8.2-final"
  },
  "orig_nbformat": 2,
  "kernelspec": {
   "name": "python38264bit88c5656e839e4b9dbfc47071a86401a2",
   "display_name": "Python 3.8.2 64-bit"
  }
 },
 "nbformat": 4,
 "nbformat_minor": 2
}